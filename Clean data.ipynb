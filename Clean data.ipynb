{
 "cells": [
  {
   "cell_type": "code",
   "execution_count": 1,
   "id": "119ea01a",
   "metadata": {},
   "outputs": [],
   "source": [
    "import pandas as pd"
   ]
  },
  {
   "cell_type": "code",
   "execution_count": 111,
   "id": "9f0ea156",
   "metadata": {},
   "outputs": [
    {
     "data": {
      "text/html": [
       "<div>\n",
       "<style scoped>\n",
       "    .dataframe tbody tr th:only-of-type {\n",
       "        vertical-align: middle;\n",
       "    }\n",
       "\n",
       "    .dataframe tbody tr th {\n",
       "        vertical-align: top;\n",
       "    }\n",
       "\n",
       "    .dataframe thead th {\n",
       "        text-align: right;\n",
       "    }\n",
       "</style>\n",
       "<table border=\"1\" class=\"dataframe\">\n",
       "  <thead>\n",
       "    <tr style=\"text-align: right;\">\n",
       "      <th></th>\n",
       "      <th>home</th>\n",
       "      <th>score</th>\n",
       "      <th>away</th>\n",
       "      <th>year</th>\n",
       "    </tr>\n",
       "  </thead>\n",
       "  <tbody>\n",
       "    <tr>\n",
       "      <th>0</th>\n",
       "      <td>France</td>\n",
       "      <td>4–1</td>\n",
       "      <td>Mexico</td>\n",
       "      <td>1930</td>\n",
       "    </tr>\n",
       "    <tr>\n",
       "      <th>1</th>\n",
       "      <td>Argentina</td>\n",
       "      <td>1–0</td>\n",
       "      <td>France</td>\n",
       "      <td>1930</td>\n",
       "    </tr>\n",
       "    <tr>\n",
       "      <th>2</th>\n",
       "      <td>Chile</td>\n",
       "      <td>3–0</td>\n",
       "      <td>Mexico</td>\n",
       "      <td>1930</td>\n",
       "    </tr>\n",
       "    <tr>\n",
       "      <th>3</th>\n",
       "      <td>Chile</td>\n",
       "      <td>1–0</td>\n",
       "      <td>France</td>\n",
       "      <td>1930</td>\n",
       "    </tr>\n",
       "    <tr>\n",
       "      <th>4</th>\n",
       "      <td>Argentina</td>\n",
       "      <td>6–3</td>\n",
       "      <td>Mexico</td>\n",
       "      <td>1930</td>\n",
       "    </tr>\n",
       "    <tr>\n",
       "      <th>...</th>\n",
       "      <td>...</td>\n",
       "      <td>...</td>\n",
       "      <td>...</td>\n",
       "      <td>...</td>\n",
       "    </tr>\n",
       "    <tr>\n",
       "      <th>864</th>\n",
       "      <td>England</td>\n",
       "      <td>1–2</td>\n",
       "      <td>France</td>\n",
       "      <td>2022</td>\n",
       "    </tr>\n",
       "    <tr>\n",
       "      <th>865</th>\n",
       "      <td>Argentina</td>\n",
       "      <td>3–0</td>\n",
       "      <td>Croatia</td>\n",
       "      <td>2022</td>\n",
       "    </tr>\n",
       "    <tr>\n",
       "      <th>866</th>\n",
       "      <td>France</td>\n",
       "      <td>2–0</td>\n",
       "      <td>Morocco</td>\n",
       "      <td>2022</td>\n",
       "    </tr>\n",
       "    <tr>\n",
       "      <th>867</th>\n",
       "      <td>Croatia</td>\n",
       "      <td>2–1</td>\n",
       "      <td>Morocco</td>\n",
       "      <td>2022</td>\n",
       "    </tr>\n",
       "    <tr>\n",
       "      <th>868</th>\n",
       "      <td>Argentina</td>\n",
       "      <td>3–3 (a.e.t.)</td>\n",
       "      <td>France</td>\n",
       "      <td>2022</td>\n",
       "    </tr>\n",
       "  </tbody>\n",
       "</table>\n",
       "<p>869 rows × 4 columns</p>\n",
       "</div>"
      ],
      "text/plain": [
       "           home         score      away  year\n",
       "0       France            4–1    Mexico  1930\n",
       "1    Argentina            1–0    France  1930\n",
       "2        Chile            3–0    Mexico  1930\n",
       "3        Chile            1–0    France  1930\n",
       "4    Argentina            6–3    Mexico  1930\n",
       "..          ...           ...       ...   ...\n",
       "864    England            1–2    France  2022\n",
       "865  Argentina            3–0   Croatia  2022\n",
       "866     France            2–0   Morocco  2022\n",
       "867    Croatia            2–1   Morocco  2022\n",
       "868  Argentina   3–3 (a.e.t.)    France  2022\n",
       "\n",
       "[869 rows x 4 columns]"
      ]
     },
     "execution_count": 111,
     "metadata": {},
     "output_type": "execute_result"
    }
   ],
   "source": [
    "df= pd.read_csv('fifa_wordl_cup_historical_data_BS4 .csv')\n",
    "df"
   ]
  },
  {
   "cell_type": "markdown",
   "id": "af8a1423",
   "metadata": {},
   "source": [
    "## Delete blank spaces"
   ]
  },
  {
   "cell_type": "code",
   "execution_count": 116,
   "id": "7530a865",
   "metadata": {},
   "outputs": [],
   "source": [
    "df['home'] = df['home'].str.strip()\n",
    "df['away'] = df['away'].str.strip()"
   ]
  },
  {
   "cell_type": "markdown",
   "id": "8b7dab7a",
   "metadata": {},
   "source": [
    "## Null value check "
   ]
  },
  {
   "cell_type": "code",
   "execution_count": 114,
   "id": "2ed0e7e2",
   "metadata": {},
   "outputs": [],
   "source": [
    "# df_data_historica[df_data_historica['home'].isnull()]\n",
    "df.dropna(inplace=True)\n",
    "df.sort_values('year', inplace=True)"
   ]
  },
  {
   "cell_type": "markdown",
   "id": "c49fffb6",
   "metadata": {},
   "source": [
    "## Delete bias "
   ]
  },
  {
   "cell_type": "code",
   "execution_count": 120,
   "id": "daaafb8c",
   "metadata": {},
   "outputs": [],
   "source": [
    "index_eliminar=df[df['home'].str.contains('Sweden') & \n",
    "   df['away'].str.contains('Austria')].index  \n"
   ]
  },
  {
   "cell_type": "code",
   "execution_count": 122,
   "id": "f7875427",
   "metadata": {},
   "outputs": [],
   "source": [
    "df.drop(index=index_eliminar, inplace=True)"
   ]
  },
  {
   "cell_type": "markdown",
   "id": "e4d4ce44",
   "metadata": {},
   "source": [
    "## Clean data "
   ]
  },
  {
   "cell_type": "code",
   "execution_count": 139,
   "id": "2ced0566",
   "metadata": {},
   "outputs": [
    {
     "data": {
      "text/html": [
       "<div>\n",
       "<style scoped>\n",
       "    .dataframe tbody tr th:only-of-type {\n",
       "        vertical-align: middle;\n",
       "    }\n",
       "\n",
       "    .dataframe tbody tr th {\n",
       "        vertical-align: top;\n",
       "    }\n",
       "\n",
       "    .dataframe thead th {\n",
       "        text-align: right;\n",
       "    }\n",
       "</style>\n",
       "<table border=\"1\" class=\"dataframe\">\n",
       "  <thead>\n",
       "    <tr style=\"text-align: right;\">\n",
       "      <th></th>\n",
       "      <th>home</th>\n",
       "      <th>score</th>\n",
       "      <th>away</th>\n",
       "      <th>year</th>\n",
       "    </tr>\n",
       "  </thead>\n",
       "  <tbody>\n",
       "  </tbody>\n",
       "</table>\n",
       "</div>"
      ],
      "text/plain": [
       "Empty DataFrame\n",
       "Columns: [home, score, away, year]\n",
       "Index: []"
      ]
     },
     "execution_count": 139,
     "metadata": {},
     "output_type": "execute_result"
    }
   ],
   "source": [
    "# df[df['score'].str.contains('[^\\d–]')]\n",
    "df['score']=df['score'].str.replace('[^\\d–]', '', regex=True)"
   ]
  },
  {
   "cell_type": "code",
   "execution_count": 140,
   "id": "cf1d383c",
   "metadata": {},
   "outputs": [],
   "source": [
    "df['home'] = df['home'].str.strip()\n",
    "df['away'] = df['away'].str.strip()"
   ]
  },
  {
   "cell_type": "code",
   "execution_count": 145,
   "id": "ed4b32bd",
   "metadata": {},
   "outputs": [],
   "source": [
    "df[['homeGoals', 'awayGoals']]=df['score'].str.split('–', expand=True)"
   ]
  },
  {
   "cell_type": "code",
   "execution_count": 147,
   "id": "f6ba03cf",
   "metadata": {},
   "outputs": [],
   "source": [
    "df.drop('score', axis=1, inplace=True)"
   ]
  },
  {
   "cell_type": "markdown",
   "id": "26ff1dd9",
   "metadata": {},
   "source": [
    "## Rename "
   ]
  },
  {
   "cell_type": "code",
   "execution_count": 149,
   "id": "7f145f50",
   "metadata": {},
   "outputs": [],
   "source": [
    "df.rename(columns={'home': 'HomeTeam', 'away': 'AwayTeam', 'year': 'Year',\n",
    "                   'homeGoals': 'HomeGoals', 'awayGoals': 'AwayGoals'}, inplace=True)"
   ]
  },
  {
   "cell_type": "markdown",
   "id": "6ac55428",
   "metadata": {},
   "source": [
    "## Change types "
   ]
  },
  {
   "cell_type": "code",
   "execution_count": 156,
   "id": "1e351d30",
   "metadata": {},
   "outputs": [],
   "source": [
    "df.dtypes\n",
    "df=df.astype({'HomeGoals':int, 'AwayGoals':int, 'Year': int})"
   ]
  },
  {
   "cell_type": "markdown",
   "id": "c5dfc3fe",
   "metadata": {},
   "source": [
    "# Final results"
   ]
  },
  {
   "cell_type": "code",
   "execution_count": 159,
   "id": "f08e0ff6",
   "metadata": {},
   "outputs": [
    {
     "data": {
      "text/html": [
       "<div>\n",
       "<style scoped>\n",
       "    .dataframe tbody tr th:only-of-type {\n",
       "        vertical-align: middle;\n",
       "    }\n",
       "\n",
       "    .dataframe tbody tr th {\n",
       "        vertical-align: top;\n",
       "    }\n",
       "\n",
       "    .dataframe thead th {\n",
       "        text-align: right;\n",
       "    }\n",
       "</style>\n",
       "<table border=\"1\" class=\"dataframe\">\n",
       "  <thead>\n",
       "    <tr style=\"text-align: right;\">\n",
       "      <th></th>\n",
       "      <th>HomeTeam</th>\n",
       "      <th>AwayTeam</th>\n",
       "      <th>Year</th>\n",
       "      <th>HomeGoals</th>\n",
       "      <th>AwayGoals</th>\n",
       "    </tr>\n",
       "  </thead>\n",
       "  <tbody>\n",
       "    <tr>\n",
       "      <th>0</th>\n",
       "      <td>France</td>\n",
       "      <td>Mexico</td>\n",
       "      <td>1930</td>\n",
       "      <td>4</td>\n",
       "      <td>1</td>\n",
       "    </tr>\n",
       "    <tr>\n",
       "      <th>17</th>\n",
       "      <td>Uruguay</td>\n",
       "      <td>Argentina</td>\n",
       "      <td>1930</td>\n",
       "      <td>4</td>\n",
       "      <td>2</td>\n",
       "    </tr>\n",
       "    <tr>\n",
       "      <th>16</th>\n",
       "      <td>Uruguay</td>\n",
       "      <td>Yugoslavia</td>\n",
       "      <td>1930</td>\n",
       "      <td>6</td>\n",
       "      <td>1</td>\n",
       "    </tr>\n",
       "    <tr>\n",
       "      <th>15</th>\n",
       "      <td>Argentina</td>\n",
       "      <td>United States</td>\n",
       "      <td>1930</td>\n",
       "      <td>6</td>\n",
       "      <td>1</td>\n",
       "    </tr>\n",
       "    <tr>\n",
       "      <th>14</th>\n",
       "      <td>Paraguay</td>\n",
       "      <td>Belgium</td>\n",
       "      <td>1930</td>\n",
       "      <td>1</td>\n",
       "      <td>0</td>\n",
       "    </tr>\n",
       "    <tr>\n",
       "      <th>...</th>\n",
       "      <td>...</td>\n",
       "      <td>...</td>\n",
       "      <td>...</td>\n",
       "      <td>...</td>\n",
       "      <td>...</td>\n",
       "    </tr>\n",
       "    <tr>\n",
       "      <th>831</th>\n",
       "      <td>Japan</td>\n",
       "      <td>Costa Rica</td>\n",
       "      <td>2022</td>\n",
       "      <td>0</td>\n",
       "      <td>1</td>\n",
       "    </tr>\n",
       "    <tr>\n",
       "      <th>832</th>\n",
       "      <td>Spain</td>\n",
       "      <td>Germany</td>\n",
       "      <td>2022</td>\n",
       "      <td>1</td>\n",
       "      <td>1</td>\n",
       "    </tr>\n",
       "    <tr>\n",
       "      <th>833</th>\n",
       "      <td>Japan</td>\n",
       "      <td>Spain</td>\n",
       "      <td>2022</td>\n",
       "      <td>2</td>\n",
       "      <td>1</td>\n",
       "    </tr>\n",
       "    <tr>\n",
       "      <th>835</th>\n",
       "      <td>Morocco</td>\n",
       "      <td>Croatia</td>\n",
       "      <td>2022</td>\n",
       "      <td>0</td>\n",
       "      <td>0</td>\n",
       "    </tr>\n",
       "    <tr>\n",
       "      <th>868</th>\n",
       "      <td>Argentina</td>\n",
       "      <td>France</td>\n",
       "      <td>2022</td>\n",
       "      <td>3</td>\n",
       "      <td>3</td>\n",
       "    </tr>\n",
       "  </tbody>\n",
       "</table>\n",
       "<p>868 rows × 5 columns</p>\n",
       "</div>"
      ],
      "text/plain": [
       "      HomeTeam       AwayTeam  Year  HomeGoals  AwayGoals\n",
       "0       France         Mexico  1930          4          1\n",
       "17     Uruguay      Argentina  1930          4          2\n",
       "16     Uruguay     Yugoslavia  1930          6          1\n",
       "15   Argentina  United States  1930          6          1\n",
       "14    Paraguay        Belgium  1930          1          0\n",
       "..         ...            ...   ...        ...        ...\n",
       "831      Japan     Costa Rica  2022          0          1\n",
       "832      Spain        Germany  2022          1          1\n",
       "833      Japan          Spain  2022          2          1\n",
       "835    Morocco        Croatia  2022          0          0\n",
       "868  Argentina         France  2022          3          3\n",
       "\n",
       "[868 rows x 5 columns]"
      ]
     },
     "execution_count": 159,
     "metadata": {},
     "output_type": "execute_result"
    }
   ],
   "source": [
    "df"
   ]
  },
  {
   "cell_type": "markdown",
   "id": "38ff9dec",
   "metadata": {},
   "source": [
    "#  Export dataFrame"
   ]
  },
  {
   "cell_type": "code",
   "execution_count": 161,
   "id": "ed278c39",
   "metadata": {},
   "outputs": [],
   "source": [
    "df.to_csv('Clean_fifa_wordl_cup_historical_data_BS4 .csv', index=False)"
   ]
  }
 ],
 "metadata": {
  "kernelspec": {
   "display_name": "Python 3 (ipykernel)",
   "language": "python",
   "name": "python3"
  },
  "language_info": {
   "codemirror_mode": {
    "name": "ipython",
    "version": 3
   },
   "file_extension": ".py",
   "mimetype": "text/x-python",
   "name": "python",
   "nbconvert_exporter": "python",
   "pygments_lexer": "ipython3",
   "version": "3.10.9"
  }
 },
 "nbformat": 4,
 "nbformat_minor": 5
}
